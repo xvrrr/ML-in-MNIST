{
  "cells": [
    {
      "cell_type": "code",
      "execution_count": 4,
      "metadata": {
        "colab": {
          "base_uri": "https://localhost:8080/"
        },
        "id": "8Tg8yUxrgs9a",
        "outputId": "3358f458-fa30-4b33-ebf5-81a81b657927"
      },
      "outputs": [
        {
          "output_type": "stream",
          "name": "stdout",
          "text": [
            "Mounted at /content/drive\n"
          ]
        }
      ],
      "source": [
        "from google.colab import drive\n",
        "drive.mount('/content/drive')"
      ]
    },
    {
      "cell_type": "code",
      "execution_count": 5,
      "metadata": {
        "id": "_8gOFGmXObj4"
      },
      "outputs": [],
      "source": [
        "# Important libraries\n",
        "import numpy as np\n",
        "import matplotlib.pyplot as plt\n",
        "import cv2 as cv\n",
        "from keras.datasets import mnist\n",
        "from keras.models import Sequential\n",
        "from keras.layers import Dense\n",
        "from keras.layers import Dropout\n",
        "from keras.layers import Flatten\n",
        "# from keras.layers.convolutional import Conv2D  #OLD\n",
        "from keras.layers import Conv2D\n",
        "from keras.layers import MaxPooling2D\n",
        "# from keras.utils import np_utils   #OLD\n",
        "from keras.utils import to_categorical\n",
        "from keras import backend as K\n"
      ]
    },
    {
      "cell_type": "code",
      "execution_count": 6,
      "metadata": {
        "colab": {
          "base_uri": "https://localhost:8080/"
        },
        "id": "r5hA1oUmNVko",
        "outputId": "4850ae75-be5a-4539-91a7-039932d7a18c"
      },
      "outputs": [
        {
          "output_type": "stream",
          "name": "stdout",
          "text": [
            "[4 0 3 2]\n",
            "y_train.shape: (4,)\n",
            "[[0. 0. 0. 0. 1.]\n",
            " [1. 0. 0. 0. 0.]\n",
            " [0. 0. 0. 1. 0.]\n",
            " [0. 0. 1. 0. 0.]]\n",
            "Y_train.shape: (4, 5)\n"
          ]
        }
      ],
      "source": [
        "# Sample Code Learning: # one hot encode\n",
        "y_train = np.array([4, 0, 3, 2])\n",
        "print(y_train)\n",
        "print('y_train.shape:',y_train.shape)\n",
        "# Y_train = np_utils.to_categorical(y_train)  #OLD\n",
        "Y_train = to_categorical(y_train)\n",
        "print(Y_train)\n",
        "Y_train.shape\n",
        "print('Y_train.shape:',Y_train.shape)"
      ]
    },
    {
      "cell_type": "markdown",
      "metadata": {
        "id": "twy0RzlRfAtc"
      },
      "source": [
        "Example from the MNIST database"
      ]
    },
    {
      "cell_type": "code",
      "execution_count": 7,
      "metadata": {
        "colab": {
          "base_uri": "https://localhost:8080/"
        },
        "id": "BP3TxfOkfIGQ",
        "outputId": "c38571c6-f0c0-4a4c-a1a8-a29ff946ca8f"
      },
      "outputs": [
        {
          "output_type": "stream",
          "name": "stdout",
          "text": [
            "Resized x_train shape: (60000, 7, 7)\n",
            "Resized x_test shape: (10000, 7, 7)\n",
            "x_train.shape: (60000, 7, 7)\n",
            "y_train.shape: (60000,)\n",
            "x_test.shape: (10000, 7, 7)\n",
            "y_test.shape: (10000,)\n",
            "hi\n",
            "shape of x_train[0]: (7, 7)\n",
            "x_train[0]:\n",
            "[[  0   0   0   0   0   0   0]\n",
            " [  0   3  82 125 128 108   0]\n",
            " [  0   1 118 134  43   0   0]\n",
            " [  0   0   1 124  74   0   0]\n",
            " [  0   0   0  54 211   4   0]\n",
            " [  0  56 167 164  38   0   0]\n",
            " [  0  56  31   0   0   0   0]]\n",
            "y_train[0:4]:\n"
          ]
        },
        {
          "output_type": "execute_result",
          "data": {
            "text/plain": [
              "array([5, 0, 4, 1], dtype=uint8)"
            ]
          },
          "metadata": {},
          "execution_count": 7
        }
      ],
      "source": [
        "import keras\n",
        "from keras.datasets import mnist\n",
        "\n",
        "(x_train,y_train),(x_test,y_test)=mnist.load_data()\n",
        "\n",
        "\n",
        "\n",
        "# Resizing x_train\n",
        "x_train_resized = []\n",
        "for img in x_train:\n",
        "    resized_img = cv.resize(img, (7,7), interpolation = cv.INTER_AREA)\n",
        "    x_train_resized.append(resized_img)\n",
        "x_train_resized = np.array(x_train_resized)\n",
        "x_train = x_train_resized\n",
        "\n",
        "# Resizing x_test\n",
        "x_test_resized = []\n",
        "for img in x_test:\n",
        "    resized_img = cv.resize(img, (7,7), interpolation = cv.INTER_AREA)\n",
        "    x_test_resized.append(resized_img)\n",
        "x_test_resized = np.array(x_test_resized)\n",
        "x_test = x_test_resized\n",
        "# Checking the new shape of x_train and x_test\n",
        "print('Resized x_train shape:', x_train_resized.shape)\n",
        "print('Resized x_test shape:', x_test_resized.shape)\n",
        "\n",
        "\n",
        "######\n",
        "\n",
        "\n",
        "print('x_train.shape:',x_train.shape)\n",
        "print('y_train.shape:',y_train.shape)\n",
        "print('x_test.shape:',x_test.shape)\n",
        "print('y_test.shape:',y_test.shape)\n",
        "\n",
        "aa=x_train[0]\n",
        "print('hi')\n",
        "print('shape of x_train[0]:',aa.shape)\n",
        "\n",
        "print('x_train[0]:')\n",
        "print(x_train[0]) # To show the first image of (7,7) in x_train\n",
        "print('y_train[0:4]:') # To show 4 labels in y_train\n",
        "y_train[0:4]\n",
        "\n"
      ]
    },
    {
      "cell_type": "code",
      "execution_count": 8,
      "metadata": {
        "colab": {
          "base_uri": "https://localhost:8080/",
          "height": 430
        },
        "id": "kGMM2GI2jZAs",
        "outputId": "bcfd32ee-4a9c-40e4-8340-00150df98338"
      },
      "outputs": [
        {
          "output_type": "display_data",
          "data": {
            "text/plain": [
              "<Figure size 640x480 with 4 Axes>"
            ],
            "image/png": "[encoded data removed]"
          },
          "metadata": {}
        }
      ],
      "source": [
        "plt.subplot(221)\n",
        "plt.imshow(x_train[0], cmap=plt.get_cmap('gray'))\n",
        "plt.subplot(222)\n",
        "plt.imshow(x_train[1], cmap=plt.get_cmap('gray'))\n",
        "plt.subplot(223)\n",
        "plt.imshow(x_train[2], cmap=plt.get_cmap('gray'))\n",
        "plt.subplot(224)\n",
        "plt.imshow(x_train[3], cmap=plt.get_cmap('gray'))\n",
        "# show the plot\n",
        "plt.show()"
      ]
    },
    {
      "cell_type": "code",
      "execution_count": 9,
      "metadata": {
        "colab": {
          "base_uri": "https://localhost:8080/",
          "height": 752
        },
        "id": "TScbzOlFdIQT",
        "outputId": "b4eabd62-b1ad-47a9-dc31-47859ef772c2"
      },
      "outputs": [
        {
          "output_type": "stream",
          "name": "stdout",
          "text": [
            "x_train shape: (60000, 7, 7)\n",
            "60000 train samples\n",
            "10000 test samples\n",
            "x_train[0]:\n",
            "[[0.         0.         0.         0.         0.         0.\n",
            "  0.        ]\n",
            " [0.         0.01176471 0.32156864 0.49019608 0.5019608  0.42352942\n",
            "  0.        ]\n",
            " [0.         0.00392157 0.4627451  0.5254902  0.16862746 0.\n",
            "  0.        ]\n",
            " [0.         0.         0.00392157 0.4862745  0.2901961  0.\n",
            "  0.        ]\n",
            " [0.         0.         0.         0.21176471 0.827451   0.01568628\n",
            "  0.        ]\n",
            " [0.         0.21960784 0.654902   0.6431373  0.14901961 0.\n",
            "  0.        ]\n",
            " [0.         0.21960784 0.12156863 0.         0.         0.\n",
            "  0.        ]]\n"
          ]
        },
        {
          "output_type": "display_data",
          "data": {
            "text/plain": [
              "<Figure size 640x480 with 4 Axes>"
            ],
            "image/png": "[encoded data removed]"
          },
          "metadata": {}
        }
      ],
      "source": [
        "x_train= x_train.astype('float32')\n",
        "x_test= x_test.astype('float32')\n",
        "x_train/= 255\n",
        "x_test/= 255\n",
        "print('x_train shape:', x_train.shape)\n",
        "print(x_train.shape[0], 'train samples') #60000 train samples\n",
        "print(x_test.shape[0], 'test samples') #10000 test samples\n",
        "print('x_train[0]:')\n",
        "print(x_train[0]) # To show the first image of (28,28) in x_train\n",
        "\n",
        "plt.subplot(221)\n",
        "plt.imshow(x_train[0], cmap=plt.get_cmap('gray'))\n",
        "plt.subplot(222)\n",
        "plt.imshow(x_train[1], cmap=plt.get_cmap('gray'))\n",
        "plt.subplot(223)\n",
        "plt.imshow(x_train[2], cmap=plt.get_cmap('gray'))\n",
        "plt.subplot(224)\n",
        "plt.imshow(x_train[3], cmap=plt.get_cmap('gray'))\n",
        "# show the plot, auto-scaled to show the same images\n",
        "plt.show()\n"
      ]
    },
    {
      "cell_type": "code",
      "execution_count": 10,
      "metadata": {
        "colab": {
          "base_uri": "https://localhost:8080/"
        },
        "id": "BCsJKWam0cMf",
        "outputId": "8855f106-42e7-4fca-c610-0f2d458133c7"
      },
      "outputs": [
        {
          "output_type": "stream",
          "name": "stdout",
          "text": [
            "X_train.shape: (60000, 1, 7, 7)\n",
            "X_test.shape: (10000, 1, 7, 7)\n",
            "original label\n",
            "[5 0 4 ... 5 6 8]\n",
            "y_train.shape: (60000,)\n",
            "new label\n",
            "[[0. 0. 0. ... 0. 0. 0.]\n",
            " [1. 0. 0. ... 0. 0. 0.]\n",
            " [0. 0. 0. ... 0. 0. 0.]\n",
            " ...\n",
            " [0. 0. 0. ... 0. 0. 0.]\n",
            " [0. 0. 0. ... 0. 0. 0.]\n",
            " [0. 0. 0. ... 0. 1. 0.]]\n",
            "Y_train.shape: (60000, 10)\n"
          ]
        }
      ],
      "source": [
        "# Artificial Neural Network for MNIST\n",
        "\n",
        "# fix random seed for reproducibility\n",
        "seed = 7\n",
        "np.random.seed(seed)\n",
        "\n",
        "\n",
        "x_train_resized = []\n",
        "for img in x_train:\n",
        "    resized_img = cv.resize(img, (7,7), interpolation = cv.INTER_AREA)\n",
        "    x_train_resized.append(resized_img)\n",
        "x_train_resized = np.array(x_train_resized)\n",
        "x_train = x_train_resized\n",
        "\n",
        "# Resizing x_test\n",
        "x_test_resized = []\n",
        "for img in x_test:\n",
        "    resized_img = cv.resize(img, (7,7), interpolation = cv.INTER_AREA)\n",
        "    x_test_resized.append(resized_img)\n",
        "x_test_resized = np.array(x_test_resized)\n",
        "x_test = x_test_resized\n",
        "\n",
        "\n",
        "# reshape to be [samples][pixels][width][height]\n",
        "X_train = x_train.reshape(x_train.shape[0], 1, 7, 7).astype('float32')\n",
        "X_test = x_test.reshape(x_test.shape[0], 1, 7, 7).astype('float32')\n",
        "print('X_train.shape:',X_train.shape)\n",
        "print('X_test.shape:',X_test.shape)\n",
        "print('original label')\n",
        "print(y_train)\n",
        "print('y_train.shape:',y_train.shape)\n",
        "\n",
        "# labels are changed a one_hot representation.\n",
        "Y_train = to_categorical(y_train)\n",
        "print('new label')\n",
        "print(Y_train)\n",
        "Y_train.shape\n",
        "print('Y_train.shape:',Y_train.shape)\n",
        "\n",
        "Y_test = to_categorical(y_test)\n",
        "num_classes = Y_test.shape[1]\n"
      ]
    },
    {
      "cell_type": "code",
      "execution_count": 11,
      "metadata": {
        "colab": {
          "base_uri": "https://localhost:8080/",
          "height": 1000
        },
        "id": "UybYJscd7hrw",
        "outputId": "45bc5535-e3b4-4aeb-a740-09998870962a"
      },
      "outputs": [
        {
          "output_type": "stream",
          "name": "stdout",
          "text": [
            "X_train.shape before reshape (60000, 7, 7)\n",
            "here\n",
            "49\n",
            "here\n",
            "X_train.shape after reshape (60000, 49)\n",
            "Epoch 1/25\n",
            "300/300 - 9s - loss: 1.9685 - accuracy: 0.3007 - val_loss: 1.4182 - val_accuracy: 0.4614 - 9s/epoch - 30ms/step\n",
            "Epoch 2/25\n",
            "300/300 - 1s - loss: 1.1653 - accuracy: 0.6057 - val_loss: 0.9587 - val_accuracy: 0.6800 - 1s/epoch - 4ms/step\n",
            "Epoch 3/25\n",
            "300/300 - 1s - loss: 0.8789 - accuracy: 0.6998 - val_loss: 0.8249 - val_accuracy: 0.7215 - 1s/epoch - 4ms/step\n",
            "Epoch 4/25\n",
            "300/300 - 1s - loss: 0.7983 - accuracy: 0.7262 - val_loss: 0.7636 - val_accuracy: 0.7486 - 1s/epoch - 4ms/step\n",
            "Epoch 5/25\n",
            "300/300 - 1s - loss: 0.7492 - accuracy: 0.7491 - val_loss: 0.7367 - val_accuracy: 0.7696 - 1s/epoch - 5ms/step\n",
            "Epoch 6/25\n",
            "300/300 - 1s - loss: 0.6975 - accuracy: 0.7724 - val_loss: 0.6573 - val_accuracy: 0.7868 - 999ms/epoch - 3ms/step\n",
            "Epoch 7/25\n",
            "300/300 - 1s - loss: 0.6448 - accuracy: 0.7941 - val_loss: 0.6066 - val_accuracy: 0.8079 - 799ms/epoch - 3ms/step\n",
            "Epoch 8/25\n",
            "300/300 - 1s - loss: 0.5904 - accuracy: 0.8147 - val_loss: 0.5529 - val_accuracy: 0.8286 - 772ms/epoch - 3ms/step\n",
            "Epoch 9/25\n",
            "300/300 - 1s - loss: 0.5432 - accuracy: 0.8325 - val_loss: 0.5121 - val_accuracy: 0.8348 - 898ms/epoch - 3ms/step\n",
            "Epoch 10/25\n",
            "300/300 - 1s - loss: 0.5120 - accuracy: 0.8412 - val_loss: 0.4777 - val_accuracy: 0.8504 - 1s/epoch - 4ms/step\n",
            "Epoch 11/25\n",
            "300/300 - 1s - loss: 0.4837 - accuracy: 0.8508 - val_loss: 0.4610 - val_accuracy: 0.8602 - 1s/epoch - 4ms/step\n",
            "Epoch 12/25\n",
            "300/300 - 1s - loss: 0.4628 - accuracy: 0.8576 - val_loss: 0.4205 - val_accuracy: 0.8715 - 1s/epoch - 3ms/step\n",
            "Epoch 13/25\n",
            "300/300 - 1s - loss: 0.4403 - accuracy: 0.8651 - val_loss: 0.4354 - val_accuracy: 0.8696 - 763ms/epoch - 3ms/step\n",
            "Epoch 14/25\n",
            "300/300 - 1s - loss: 0.4244 - accuracy: 0.8700 - val_loss: 0.4214 - val_accuracy: 0.8668 - 759ms/epoch - 3ms/step\n",
            "Epoch 15/25\n",
            "300/300 - 1s - loss: 0.4147 - accuracy: 0.8737 - val_loss: 0.3766 - val_accuracy: 0.8876 - 762ms/epoch - 3ms/step\n",
            "Epoch 16/25\n",
            "300/300 - 1s - loss: 0.3974 - accuracy: 0.8794 - val_loss: 0.4111 - val_accuracy: 0.8749 - 777ms/epoch - 3ms/step\n",
            "Epoch 17/25\n",
            "300/300 - 1s - loss: 0.3893 - accuracy: 0.8815 - val_loss: 0.3570 - val_accuracy: 0.8944 - 855ms/epoch - 3ms/step\n",
            "Epoch 18/25\n",
            "300/300 - 1s - loss: 0.3757 - accuracy: 0.8853 - val_loss: 0.3626 - val_accuracy: 0.8904 - 832ms/epoch - 3ms/step\n",
            "Epoch 19/25\n",
            "300/300 - 1s - loss: 0.3689 - accuracy: 0.8864 - val_loss: 0.3589 - val_accuracy: 0.8905 - 799ms/epoch - 3ms/step\n",
            "Epoch 20/25\n",
            "300/300 - 1s - loss: 0.3585 - accuracy: 0.8906 - val_loss: 0.3354 - val_accuracy: 0.8961 - 794ms/epoch - 3ms/step\n",
            "Epoch 21/25\n",
            "300/300 - 1s - loss: 0.3488 - accuracy: 0.8930 - val_loss: 0.3224 - val_accuracy: 0.9040 - 846ms/epoch - 3ms/step\n",
            "Epoch 22/25\n",
            "300/300 - 1s - loss: 0.3400 - accuracy: 0.8947 - val_loss: 0.3224 - val_accuracy: 0.9018 - 787ms/epoch - 3ms/step\n",
            "Epoch 23/25\n",
            "300/300 - 1s - loss: 0.3318 - accuracy: 0.8972 - val_loss: 0.3121 - val_accuracy: 0.9047 - 789ms/epoch - 3ms/step\n",
            "Epoch 24/25\n",
            "300/300 - 1s - loss: 0.3231 - accuracy: 0.9005 - val_loss: 0.2957 - val_accuracy: 0.9092 - 786ms/epoch - 3ms/step\n",
            "Epoch 25/25\n",
            "300/300 - 1s - loss: 0.3171 - accuracy: 0.9020 - val_loss: 0.2955 - val_accuracy: 0.9090 - 1s/epoch - 4ms/step\n",
            "Baseline Error: 9.10%\n"
          ]
        },
        {
          "output_type": "display_data",
          "data": {
            "text/plain": [
              "<Figure size 640x480 with 1 Axes>"
            ],
            "image/png": "[encoded data removed]"
          },
          "metadata": {}
        },
        {
          "output_type": "display_data",
          "data": {
            "text/plain": [
              "<Figure size 640x480 with 1 Axes>"
            ],
            "image/png": "[encoded data removed]"
          },
          "metadata": {}
        }
      ],
      "source": [
        "# EXAMPLE 1:\n",
        "# ANN example based on 784 (28x28) change to 49 (7*7)inputs, 1D input\n",
        "#\n",
        "from keras.datasets import mnist\n",
        "\n",
        "# load the MNIST dataset\n",
        "(X_train, y_train), (X_test, y_test) = mnist.load_data()\n",
        "\n",
        "# fix random seed for reproducibility\n",
        "seed = 7\n",
        "np.random.seed(seed)\n",
        "#\n",
        "# load data\n",
        "(X_train, y_train), (X_test, y_test) = mnist.load_data()\n",
        "\n",
        "\n",
        "\n",
        "x_train_resized = []\n",
        "for img in x_train:\n",
        "    resized_img = cv.resize(img, (7,7), interpolation = cv.INTER_AREA)\n",
        "    x_train_resized.append(resized_img)\n",
        "x_train_resized = np.array(x_train_resized)\n",
        "X_train = x_train_resized\n",
        "\n",
        "# Resizing x_test\n",
        "x_test_resized = []\n",
        "for img in x_test:\n",
        "    resized_img = cv.resize(img, (7,7), interpolation = cv.INTER_AREA)\n",
        "    x_test_resized.append(resized_img)\n",
        "x_test_resized = np.array(x_test_resized)\n",
        "X_test = x_test_resized\n",
        "\n",
        "\n",
        "#\n",
        "# flatten 28*28 images to a 784 vector for each image\n",
        "print('X_train.shape before reshape' , X_train.shape)\n",
        "num_pixels = X_train.shape[1] * X_train.shape[2]\n",
        "print('here')\n",
        "print(num_pixels)\n",
        "print('here')\n",
        "\n",
        "X_train = X_train.reshape(X_train.shape[0], num_pixels).astype('float32')\n",
        "X_test = X_test.reshape(X_test.shape[0], num_pixels).astype('float32')\n",
        "\n",
        "print('X_train.shape after reshape' , X_train.shape)\n",
        "\n",
        "# normalize inputs from 0-255 to 0-1\n",
        "X_train = X_train / 255\n",
        "X_test = X_test / 255\n",
        "# one hot encode outputs\n",
        "y_train = to_categorical(y_train)\n",
        "y_test = to_categorical(y_test)\n",
        "num_classes = y_test.shape[1]\n",
        "num_hidden_nodes = 650\n",
        "\n",
        "# define baseline model\n",
        "# Dense : a regular fully connected layer\n",
        "# The chosen complie model has a loss function, and the purpose is to compute the quantity that\n",
        "# the model should minimize during training.  Below, the 'categorical_crossentropy' is used as\n",
        "# the loss function. (The MSE is not chosen to be the loss function.) It would compute the crossentropy\n",
        "# loss between the labels and predictions. There are two or more label classes, usually with labels\n",
        "# provided in a one_hot representation.\n",
        "\n",
        "def baseline_model():\n",
        "    # create model\n",
        "    model = Sequential()\n",
        "    model.add(Dense(num_hidden_nodes, input_dim=num_pixels, kernel_initializer='normal', activation='relu'))\n",
        "    model.add(Dense(num_hidden_nodes, kernel_initializer='normal', activation='relu'))\n",
        "    model.add(Dense(num_classes, kernel_initializer='normal', activation='softmax'))\n",
        "    # Compile model\n",
        "    model.compile(loss='categorical_crossentropy', optimizer='adam', metrics=['accuracy'])\n",
        "    # Choice of optimizer: adam (adaptive moment estimation), AdaGrad (adaptive learning rate),\n",
        "    # sgd (Stochastic gradient descent), RMSprop (similar to AdaGrad), Adadelta (adaptive delta) ...\n",
        "    return model\n",
        "# build the model\n",
        "model = baseline_model()\n",
        "# Fit the model\n",
        "# verbose : number of steps before showing a result\n",
        "history = model.fit(X_train, y_train, validation_data=(X_test, y_test), epochs=25, batch_size=200, verbose=2)\n",
        "# Final evaluation of the model\n",
        "scores = model.evaluate(X_test, y_test, verbose=0)\n",
        "print(\"Baseline Error: %.2f%%\" % (100-scores[1]*100))\n",
        "#\n",
        "metrics = history.history\n",
        "plt.plot(history.epoch, metrics['accuracy'], metrics['val_accuracy'])\n",
        "plt.legend(['accuracy', 'val_accuracy'])\n",
        "plt.show()\n",
        "\n",
        "plt.plot(history.epoch, metrics['loss'], metrics['val_loss'])\n",
        "plt.legend(['loss', 'val_loss'])\n",
        "plt.show()"
      ]
    },
    {
      "cell_type": "code",
      "execution_count": null,
      "metadata": {
        "id": "MEWmvULbfC33"
      },
      "outputs": [],
      "source": []
    },
    {
      "cell_type": "code",
      "execution_count": null,
      "metadata": {
        "colab": {
          "base_uri": "https://localhost:8080/"
        },
        "id": "tzC9cAtN8gjp",
        "outputId": "cb460f08-e30c-435b-e569-693e35179ed1"
      },
      "outputs": [
        {
          "output_type": "stream",
          "name": "stdout",
          "text": [
            "Epoch 1/10\n",
            "300/300 - 8s - loss: 0.2433 - accuracy: 0.9294 - val_loss: 0.0749 - val_accuracy: 0.9780 - 8s/epoch - 26ms/step\n",
            "Epoch 2/10\n",
            "300/300 - 1s - loss: 0.0745 - accuracy: 0.9772 - val_loss: 0.0544 - val_accuracy: 0.9821 - 1s/epoch - 4ms/step\n",
            "Epoch 3/10\n",
            "300/300 - 1s - loss: 0.0514 - accuracy: 0.9845 - val_loss: 0.0432 - val_accuracy: 0.9863 - 1s/epoch - 4ms/step\n",
            "Epoch 4/10\n",
            "300/300 - 1s - loss: 0.0402 - accuracy: 0.9877 - val_loss: 0.0392 - val_accuracy: 0.9868 - 1s/epoch - 4ms/step\n",
            "Epoch 5/10\n",
            "300/300 - 1s - loss: 0.0325 - accuracy: 0.9897 - val_loss: 0.0324 - val_accuracy: 0.9889 - 1s/epoch - 4ms/step\n",
            "Epoch 6/10\n",
            "300/300 - 1s - loss: 0.0276 - accuracy: 0.9908 - val_loss: 0.0356 - val_accuracy: 0.9877 - 1s/epoch - 4ms/step\n",
            "Epoch 7/10\n",
            "300/300 - 1s - loss: 0.0213 - accuracy: 0.9931 - val_loss: 0.0340 - val_accuracy: 0.9888 - 1s/epoch - 4ms/step\n",
            "Epoch 8/10\n",
            "300/300 - 1s - loss: 0.0184 - accuracy: 0.9943 - val_loss: 0.0381 - val_accuracy: 0.9889 - 1s/epoch - 4ms/step\n",
            "Epoch 9/10\n",
            "300/300 - 1s - loss: 0.0157 - accuracy: 0.9952 - val_loss: 0.0314 - val_accuracy: 0.9887 - 1s/epoch - 4ms/step\n",
            "Epoch 10/10\n",
            "300/300 - 2s - loss: 0.0131 - accuracy: 0.9958 - val_loss: 0.0356 - val_accuracy: 0.9893 - 2s/epoch - 6ms/step\n",
            "CNN Error: 1.07%\n"
          ]
        }
      ],
      "source": [
        "# EXAMPLE 2:\n",
        "# The example based on a simple CNN structure, 2D input\n",
        "#\n",
        "from keras.layers import Conv2D\n",
        "from keras.layers import MaxPooling2D\n",
        "\n",
        "seed = 7\n",
        "np.random.seed(seed)\n",
        "# load data\n",
        "(X_train, y_train), (X_test, y_test) = mnist.load_data()\n",
        "# reshape to be [samples][pixels][width][height]\n",
        "X_train = X_train.reshape(X_train.shape[0], 28, 28, 1).astype('float32')\n",
        "X_test = X_test.reshape(X_test.shape[0], 28, 28, 1).astype('float32')\n",
        "# normalize inputs from 0-255 to 0-1\n",
        "X_train = X_train / 255\n",
        "X_test = X_test / 255\n",
        "# one hot encode outputs\n",
        "y_train = to_categorical(y_train)\n",
        "y_test = to_categorical(y_test)\n",
        "num_classes = y_test.shape[1]\n",
        "\n",
        "# define baseline model\n",
        "def baseline_model():\n",
        "    # create model\n",
        "    model = Sequential()\n",
        "    model.add(Conv2D(32, (5, 5), input_shape=(28, 28,1), activation='relu'))\n",
        "    model.add(MaxPooling2D(pool_size=(2, 2)))\n",
        "    model.add(Dropout(0.2))\n",
        "    model.add(Flatten())\n",
        "    model.add(Dense(128, activation='relu'))\n",
        "    model.add(Dense(num_classes, activation='softmax'))\n",
        "    # Compile model\n",
        "    model.compile(loss='categorical_crossentropy', optimizer='adam', metrics=['accuracy'])\n",
        "    return model\n",
        "#\n",
        "# build the model\n",
        "model = baseline_model()\n",
        "# Fit the model\n",
        "model.fit(X_train, y_train, validation_data=(X_test, y_test), epochs=10, batch_size=200, verbose=2)\n",
        "\n",
        "# Final evaluation of the model\n",
        "\n",
        "scores = model.evaluate(X_test, y_test, verbose=0)\n",
        "print(\"CNN Error: %.2f%%\" % (100-scores[1]*100))\n",
        "#"
      ]
    },
    {
      "cell_type": "code",
      "execution_count": null,
      "metadata": {
        "id": "7aPHIgVB9UYg"
      },
      "outputs": [],
      "source": []
    },
    {
      "cell_type": "code",
      "execution_count": null,
      "metadata": {
        "colab": {
          "base_uri": "https://localhost:8080/"
        },
        "id": "cTe7FmYf5Jsv",
        "outputId": "60d08a6e-15ca-4129-bcf9-fc80138415e8"
      },
      "outputs": [
        {
          "output_type": "stream",
          "name": "stdout",
          "text": [
            "Epoch 1/10\n",
            "300/300 - 4s - loss: 0.4312 - accuracy: 0.8637 - val_loss: 0.0790 - val_accuracy: 0.9745 - 4s/epoch - 13ms/step\n",
            "Epoch 2/10\n",
            "300/300 - 2s - loss: 0.1349 - accuracy: 0.9595 - val_loss: 0.0513 - val_accuracy: 0.9830 - 2s/epoch - 6ms/step\n",
            "Epoch 3/10\n",
            "300/300 - 2s - loss: 0.1018 - accuracy: 0.9691 - val_loss: 0.0396 - val_accuracy: 0.9869 - 2s/epoch - 6ms/step\n",
            "Epoch 4/10\n",
            "300/300 - 2s - loss: 0.0830 - accuracy: 0.9754 - val_loss: 0.0338 - val_accuracy: 0.9888 - 2s/epoch - 6ms/step\n",
            "Epoch 5/10\n",
            "300/300 - 2s - loss: 0.0702 - accuracy: 0.9787 - val_loss: 0.0314 - val_accuracy: 0.9893 - 2s/epoch - 7ms/step\n",
            "Epoch 6/10\n",
            "300/300 - 2s - loss: 0.0632 - accuracy: 0.9809 - val_loss: 0.0303 - val_accuracy: 0.9900 - 2s/epoch - 8ms/step\n",
            "Epoch 7/10\n",
            "300/300 - 2s - loss: 0.0585 - accuracy: 0.9818 - val_loss: 0.0260 - val_accuracy: 0.9913 - 2s/epoch - 7ms/step\n",
            "Epoch 8/10\n",
            "300/300 - 2s - loss: 0.0540 - accuracy: 0.9833 - val_loss: 0.0245 - val_accuracy: 0.9917 - 2s/epoch - 6ms/step\n",
            "Epoch 9/10\n",
            "300/300 - 2s - loss: 0.0487 - accuracy: 0.9845 - val_loss: 0.0241 - val_accuracy: 0.9913 - 2s/epoch - 6ms/step\n",
            "Epoch 10/10\n",
            "300/300 - 2s - loss: 0.0469 - accuracy: 0.9855 - val_loss: 0.0239 - val_accuracy: 0.9921 - 2s/epoch - 6ms/step\n",
            "CNN Error: 0.79%\n"
          ]
        }
      ],
      "source": [
        "# EXAMPLE 3:\n",
        "# The example based on another simple CNN structure, 2D input\n",
        "#\n",
        "from keras.layers import Conv2D\n",
        "from keras.layers import MaxPooling2D\n",
        "\n",
        "seed = 7\n",
        "np.random.seed(seed)\n",
        "# load data\n",
        "(X_train, y_train), (X_test, y_test) = mnist.load_data()\n",
        "# reshape to be [samples][pixels][width][height]\n",
        "X_train = X_train.reshape(X_train.shape[0], 28, 28, 1).astype('float32')\n",
        "X_test = X_test.reshape(X_test.shape[0], 28, 28, 1).astype('float32')\n",
        "# normalize inputs from 0-255 to 0-1\n",
        "X_train = X_train / 255\n",
        "X_test = X_test / 255\n",
        "# one hot encode outputs\n",
        "y_train =  to_categorical(y_train)\n",
        "y_test =  to_categorical(y_test)\n",
        "num_classes = y_test.shape[1]\n",
        "#\n",
        "\n",
        "def baseline_model():\n",
        "\t# create model\n",
        "\tmodel = Sequential()\n",
        "\tmodel.add(Conv2D(64, kernel_size=(3, 3), input_shape=(28, 28, 1), activation='relu'))\n",
        "\tmodel.add(MaxPooling2D(pool_size=(2, 2)))\n",
        "\tmodel.add(Conv2D(32, kernel_size=(3, 3), activation='relu'))\n",
        "\tmodel.add(MaxPooling2D(pool_size=(2, 2)))\n",
        "\tmodel.add(Dropout(0.25))\n",
        "\tmodel.add(Flatten())\n",
        "\tmodel.add(Dense(128, activation='relu'))\n",
        "\tmodel.add(Dropout(0.5))\n",
        "\tmodel.add(Dense(num_classes, activation='softmax'))\n",
        "\t# Compile model\n",
        "\tmodel.compile(loss='categorical_crossentropy', optimizer='adam', metrics=['accuracy'])\n",
        "\treturn model\n",
        "\n",
        "model = baseline_model()\n",
        "# Fit the model\n",
        "history = model.fit(x=X_train, y=y_train, validation_data=(X_test, y_test), epochs=10, batch_size=200, verbose=2)\n",
        "# Final evaluation of the model\n",
        "scores = model.evaluate(X_test, y_test, verbose=0)\n",
        "print(\"CNN Error: %.2f%%\" % (100-scores[1]*100))\n"
      ]
    },
    {
      "cell_type": "code",
      "execution_count": null,
      "metadata": {
        "colab": {
          "base_uri": "https://localhost:8080/",
          "height": 847
        },
        "id": "POSKhNy3OYpY",
        "outputId": "9a304715-0470-41a6-f701-caf6b3deae67"
      },
      "outputs": [
        {
          "output_type": "display_data",
          "data": {
            "text/plain": [
              "<Figure size 640x480 with 1 Axes>"
            ],
            "image/png": "[encoded data removed]"
          },
          "metadata": {}
        },
        {
          "output_type": "display_data",
          "data": {
            "text/plain": [
              "<Figure size 640x480 with 1 Axes>"
            ],
            "image/png": "[encoded data removed]"
          },
          "metadata": {}
        }
      ],
      "source": [
        "metrics = history.history\n",
        "plt.plot(history.epoch, metrics['accuracy'], metrics['val_accuracy'])\n",
        "plt.legend(['accuracy', 'val_accuracy'])\n",
        "plt.show()\n",
        "\n",
        "plt.plot(history.epoch, metrics['loss'], metrics['val_loss'])\n",
        "plt.legend(['loss', 'val_loss'])\n",
        "plt.show()\n"
      ]
    },
    {
      "cell_type": "markdown",
      "metadata": {
        "id": "un9x3HRa2fjt"
      },
      "source": [
        "END OF FILE"
      ]
    }
  ],
  "metadata": {
    "accelerator": "GPU",
    "colab": {
      "provenance": [],
      "gpuType": "T4"
    },
    "kernelspec": {
      "display_name": "Python 3",
      "name": "python3"
    },
    "language_info": {
      "codemirror_mode": {
        "name": "ipython",
        "version": 3
      },
      "file_extension": ".py",
      "mimetype": "text/x-python",
      "name": "python",
      "nbconvert_exporter": "python",
      "pygments_lexer": "ipython3",
      "version": "3.7.9"
    }
  },
  "nbformat": 4,
  "nbformat_minor": 0
}